{
 "cells": [
  {
   "cell_type": "code",
   "execution_count": 26,
   "metadata": {},
   "outputs": [],
   "source": [
    "# Add the Pandas dependency\n",
    "import pandas as pd"
   ]
  },
  {
   "cell_type": "code",
   "execution_count": 27,
   "metadata": {},
   "outputs": [],
   "source": [
    "# File to load\n",
    "ny_data_to_load = \"NY_state.csv\""
   ]
  },
  {
   "cell_type": "code",
   "execution_count": 28,
   "metadata": {},
   "outputs": [],
   "source": [
    "# Read the NY plant data and store it in a Pandas DataFrame\n",
    "ny_data_df = pd.read_csv(ny_data_to_load)\n",
    "# ny_data_df.head()"
   ]
  },
  {
   "cell_type": "code",
   "execution_count": 29,
   "metadata": {},
   "outputs": [
    {
     "data": {
      "text/plain": [
       "Symbol                         16351\n",
       "Synonym Symbol                 10182\n",
       "Scientific Name with Author    16351\n",
       "National Common Name            6160\n",
       "Family                         16351\n",
       "dtype: int64"
      ]
     },
     "execution_count": 29,
     "metadata": {},
     "output_type": "execute_result"
    }
   ],
   "source": [
    "# Determine the amount of missing data in NY plant data.\n",
    "# Missing data is expected in the Synonym Symbol and National Common Name columns.\n",
    "ny_data_df.notnull().sum()"
   ]
  },
  {
   "cell_type": "code",
   "execution_count": 30,
   "metadata": {},
   "outputs": [
    {
     "data": {
      "text/plain": [
       "Symbol                         object\n",
       "Synonym Symbol                 object\n",
       "Scientific Name with Author    object\n",
       "National Common Name           object\n",
       "Family                         object\n",
       "dtype: object"
      ]
     },
     "execution_count": 30,
     "metadata": {},
     "output_type": "execute_result"
    }
   ],
   "source": [
    "# Confirm that the data type is object for the DataFrame.\n",
    "ny_data_df.dtypes"
   ]
  },
  {
   "cell_type": "code",
   "execution_count": 31,
   "metadata": {},
   "outputs": [
    {
     "data": {
      "text/plain": [
       "16351"
      ]
     },
     "execution_count": 31,
     "metadata": {},
     "output_type": "execute_result"
    }
   ],
   "source": [
    "# Get the total rows of data.\n",
    "plant_count = ny_data_df['Symbol'].count()\n",
    "plant_count"
   ]
  },
  {
   "cell_type": "code",
   "execution_count": 32,
   "metadata": {},
   "outputs": [],
   "source": [
    "# Get the total numbers for Family.\n",
    "family_count = len(ny_data_df[\"Family\"].unique())\n",
    "# family_count"
   ]
  },
  {
   "cell_type": "code",
   "execution_count": 33,
   "metadata": {},
   "outputs": [],
   "source": [
    "# Double checked from https://stackoverflow.com/questions/38309729/count-unique-values-with-pandas-per-groups\n",
    "# Get the count for each Family represented and assign to a new DataFrame.\n",
    "family_data = ny_data_df.Family.value_counts()\n",
    "# family_data.head()"
   ]
  },
  {
   "cell_type": "code",
   "execution_count": 34,
   "metadata": {},
   "outputs": [],
   "source": [
    "# Get the percent each Family represents from total Plants\n",
    "family_percentage = family_data/float(plant_count)*100\n",
    "# family_percentage.head(10)"
   ]
  },
  {
   "cell_type": "code",
   "execution_count": 35,
   "metadata": {},
   "outputs": [
    {
     "data": {
      "text/html": [
       "<div>\n",
       "<style scoped>\n",
       "    .dataframe tbody tr th:only-of-type {\n",
       "        vertical-align: middle;\n",
       "    }\n",
       "\n",
       "    .dataframe tbody tr th {\n",
       "        vertical-align: top;\n",
       "    }\n",
       "\n",
       "    .dataframe thead th {\n",
       "        text-align: right;\n",
       "    }\n",
       "</style>\n",
       "<table border=\"1\" class=\"dataframe\">\n",
       "  <thead>\n",
       "    <tr style=\"text-align: right;\">\n",
       "      <th></th>\n",
       "      <th>Count</th>\n",
       "      <th>Percentage of Plants</th>\n",
       "    </tr>\n",
       "  </thead>\n",
       "  <tbody>\n",
       "    <tr>\n",
       "      <th>Asteraceae</th>\n",
       "      <td>2057</td>\n",
       "      <td>12.58%</td>\n",
       "    </tr>\n",
       "    <tr>\n",
       "      <th>Poaceae</th>\n",
       "      <td>1927</td>\n",
       "      <td>11.79%</td>\n",
       "    </tr>\n",
       "    <tr>\n",
       "      <th>Rosaceae</th>\n",
       "      <td>1305</td>\n",
       "      <td>7.98%</td>\n",
       "    </tr>\n",
       "    <tr>\n",
       "      <th>Cyperaceae</th>\n",
       "      <td>1016</td>\n",
       "      <td>6.21%</td>\n",
       "    </tr>\n",
       "    <tr>\n",
       "      <th>Fabaceae</th>\n",
       "      <td>604</td>\n",
       "      <td>3.69%</td>\n",
       "    </tr>\n",
       "    <tr>\n",
       "      <th>Brassicaceae</th>\n",
       "      <td>468</td>\n",
       "      <td>2.86%</td>\n",
       "    </tr>\n",
       "    <tr>\n",
       "      <th>Scrophulariaceae</th>\n",
       "      <td>430</td>\n",
       "      <td>2.63%</td>\n",
       "    </tr>\n",
       "    <tr>\n",
       "      <th>Lamiaceae</th>\n",
       "      <td>399</td>\n",
       "      <td>2.44%</td>\n",
       "    </tr>\n",
       "    <tr>\n",
       "      <th>Caryophyllaceae</th>\n",
       "      <td>338</td>\n",
       "      <td>2.07%</td>\n",
       "    </tr>\n",
       "    <tr>\n",
       "      <th>Polygonaceae</th>\n",
       "      <td>331</td>\n",
       "      <td>2.02%</td>\n",
       "    </tr>\n",
       "  </tbody>\n",
       "</table>\n",
       "</div>"
      ],
      "text/plain": [
       "                  Count Percentage of Plants\n",
       "Asteraceae         2057               12.58%\n",
       "Poaceae            1927               11.79%\n",
       "Rosaceae           1305                7.98%\n",
       "Cyperaceae         1016                6.21%\n",
       "Fabaceae            604                3.69%\n",
       "Brassicaceae        468                2.86%\n",
       "Scrophulariaceae    430                2.63%\n",
       "Lamiaceae           399                2.44%\n",
       "Caryophyllaceae     338                2.07%\n",
       "Polygonaceae        331                2.02%"
      ]
     },
     "execution_count": 35,
     "metadata": {},
     "output_type": "execute_result"
    }
   ],
   "source": [
    "# Get the Family information into a new DataFrame.\n",
    "family_df = pd.DataFrame({\"Count\": family_data,\n",
    "                         \"Percentage of Plants\": family_percentage})\n",
    "# Format the Total School Budget and the Per Student Budget columns.\n",
    "family_df[\"Percentage of Plants\"] = family_df[\"Percentage of Plants\"].map(\"{:,.2f}%\".format)\n",
    "\n",
    "family_df.head(10)"
   ]
  },
  {
   "cell_type": "code",
   "execution_count": null,
   "metadata": {},
   "outputs": [],
   "source": []
  }
 ],
 "metadata": {
  "kernelspec": {
   "display_name": "Python 3",
   "language": "python",
   "name": "python3"
  },
  "language_info": {
   "codemirror_mode": {
    "name": "ipython",
    "version": 3
   },
   "file_extension": ".py",
   "mimetype": "text/x-python",
   "name": "python",
   "nbconvert_exporter": "python",
   "pygments_lexer": "ipython3",
   "version": "3.8.5"
  }
 },
 "nbformat": 4,
 "nbformat_minor": 4
}
