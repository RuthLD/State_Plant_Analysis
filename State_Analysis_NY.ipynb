{
 "cells": [
  {
   "cell_type": "code",
   "execution_count": 1,
   "metadata": {},
   "outputs": [],
   "source": [
    "# Add the Pandas dependency\n",
    "import pandas as pd"
   ]
  },
  {
   "cell_type": "code",
   "execution_count": 2,
   "metadata": {},
   "outputs": [],
   "source": [
    "# File to load\n",
    "ny_data_to_load = \"NY_state.csv\""
   ]
  },
  {
   "cell_type": "code",
   "execution_count": 25,
   "metadata": {},
   "outputs": [
    {
     "data": {
      "text/html": [
       "<div>\n",
       "<style scoped>\n",
       "    .dataframe tbody tr th:only-of-type {\n",
       "        vertical-align: middle;\n",
       "    }\n",
       "\n",
       "    .dataframe tbody tr th {\n",
       "        vertical-align: top;\n",
       "    }\n",
       "\n",
       "    .dataframe thead th {\n",
       "        text-align: right;\n",
       "    }\n",
       "</style>\n",
       "<table border=\"1\" class=\"dataframe\">\n",
       "  <thead>\n",
       "    <tr style=\"text-align: right;\">\n",
       "      <th></th>\n",
       "      <th>Symbol</th>\n",
       "      <th>Synonym Symbol</th>\n",
       "      <th>Scientific Name with Author</th>\n",
       "      <th>National Common Name</th>\n",
       "      <th>Family</th>\n",
       "    </tr>\n",
       "  </thead>\n",
       "  <tbody>\n",
       "    <tr>\n",
       "      <th>0</th>\n",
       "      <td>JUAM</td>\n",
       "      <td>NaN</td>\n",
       "      <td>Justicia americana (L.) Vahl</td>\n",
       "      <td>American water-willow</td>\n",
       "      <td>Acanthaceae</td>\n",
       "    </tr>\n",
       "    <tr>\n",
       "      <th>1</th>\n",
       "      <td>JUAM</td>\n",
       "      <td>DIAM2</td>\n",
       "      <td>Dianthera americana L.</td>\n",
       "      <td>NaN</td>\n",
       "      <td>Acanthaceae</td>\n",
       "    </tr>\n",
       "    <tr>\n",
       "      <th>2</th>\n",
       "      <td>JUAM</td>\n",
       "      <td>DIAMS</td>\n",
       "      <td>Dianthera americana L. var. subcoriacea (Ferna...</td>\n",
       "      <td>NaN</td>\n",
       "      <td>Acanthaceae</td>\n",
       "    </tr>\n",
       "    <tr>\n",
       "      <th>3</th>\n",
       "      <td>JUAM</td>\n",
       "      <td>JUAMS</td>\n",
       "      <td>Justicia americana (L.) Vahl var. subcoriacea ...</td>\n",
       "      <td>NaN</td>\n",
       "      <td>Acanthaceae</td>\n",
       "    </tr>\n",
       "    <tr>\n",
       "      <th>4</th>\n",
       "      <td>JUAM</td>\n",
       "      <td>JUMO2</td>\n",
       "      <td>Justicia mortuifluminis Fernald</td>\n",
       "      <td>NaN</td>\n",
       "      <td>Acanthaceae</td>\n",
       "    </tr>\n",
       "  </tbody>\n",
       "</table>\n",
       "</div>"
      ],
      "text/plain": [
       "  Symbol Synonym Symbol                        Scientific Name with Author  \\\n",
       "0   JUAM            NaN                       Justicia americana (L.) Vahl   \n",
       "1   JUAM          DIAM2                             Dianthera americana L.   \n",
       "2   JUAM          DIAMS  Dianthera americana L. var. subcoriacea (Ferna...   \n",
       "3   JUAM          JUAMS  Justicia americana (L.) Vahl var. subcoriacea ...   \n",
       "4   JUAM          JUMO2                    Justicia mortuifluminis Fernald   \n",
       "\n",
       "    National Common Name       Family  \n",
       "0  American water-willow  Acanthaceae  \n",
       "1                    NaN  Acanthaceae  \n",
       "2                    NaN  Acanthaceae  \n",
       "3                    NaN  Acanthaceae  \n",
       "4                    NaN  Acanthaceae  "
      ]
     },
     "execution_count": 25,
     "metadata": {},
     "output_type": "execute_result"
    }
   ],
   "source": [
    "# Read the NY plant data and store it in a Pandas DataFrame\n",
    "ny_data_df = pd.read_csv(ny_data_to_load)\n",
    "ny_data_df.head()"
   ]
  },
  {
   "cell_type": "code",
   "execution_count": 5,
   "metadata": {},
   "outputs": [
    {
     "data": {
      "text/plain": [
       "Symbol                         16351\n",
       "Synonym Symbol                 10182\n",
       "Scientific Name with Author    16351\n",
       "National Common Name            6160\n",
       "Family                         16351\n",
       "dtype: int64"
      ]
     },
     "execution_count": 5,
     "metadata": {},
     "output_type": "execute_result"
    }
   ],
   "source": [
    "# Determine the amount of missing data in NY plant data.\n",
    "# Missing data is expected in the Synonym Symbol and National Common Name columns.\n",
    "ny_data_df.notnull().sum()"
   ]
  },
  {
   "cell_type": "code",
   "execution_count": 6,
   "metadata": {},
   "outputs": [
    {
     "data": {
      "text/plain": [
       "Symbol                         object\n",
       "Synonym Symbol                 object\n",
       "Scientific Name with Author    object\n",
       "National Common Name           object\n",
       "Family                         object\n",
       "dtype: object"
      ]
     },
     "execution_count": 6,
     "metadata": {},
     "output_type": "execute_result"
    }
   ],
   "source": [
    "# Confirm that the data type is object for the DataFrame.\n",
    "ny_data_df.dtypes"
   ]
  },
  {
   "cell_type": "code",
   "execution_count": 11,
   "metadata": {},
   "outputs": [
    {
     "data": {
      "text/plain": [
       "16351"
      ]
     },
     "execution_count": 11,
     "metadata": {},
     "output_type": "execute_result"
    }
   ],
   "source": [
    "# Get the total rows of data.\n",
    "plant_count = ny_data_df['Symbol'].count()\n",
    "plant_count"
   ]
  },
  {
   "cell_type": "code",
   "execution_count": 7,
   "metadata": {},
   "outputs": [
    {
     "data": {
      "text/plain": [
       "228"
      ]
     },
     "execution_count": 7,
     "metadata": {},
     "output_type": "execute_result"
    }
   ],
   "source": [
    "# Get the total numbers for Family.\n",
    "family_count = len(ny_data_df[\"Family\"].unique())\n",
    "family_count"
   ]
  },
  {
   "cell_type": "code",
   "execution_count": 24,
   "metadata": {},
   "outputs": [
    {
     "data": {
      "text/plain": [
       "Asteraceae    2057\n",
       "Poaceae       1927\n",
       "Rosaceae      1305\n",
       "Cyperaceae    1016\n",
       "Fabaceae       604\n",
       "Name: Family, dtype: int64"
      ]
     },
     "execution_count": 24,
     "metadata": {},
     "output_type": "execute_result"
    }
   ],
   "source": [
    "# Double checked from https://stackoverflow.com/questions/38309729/count-unique-values-with-pandas-per-groups\n",
    "# Get the count for each Family represented and assign to a new DataFrame.\n",
    "family_data = ny_data_df.Family.value_counts()\n",
    "family_data.head()"
   ]
  },
  {
   "cell_type": "code",
   "execution_count": 23,
   "metadata": {},
   "outputs": [
    {
     "data": {
      "text/plain": [
       "Asteraceae          12.580270\n",
       "Poaceae             11.785212\n",
       "Rosaceae             7.981163\n",
       "Cyperaceae           6.213687\n",
       "Fabaceae             3.693964\n",
       "Brassicaceae         2.862210\n",
       "Scrophulariaceae     2.629809\n",
       "Lamiaceae            2.440218\n",
       "Caryophyllaceae      2.067152\n",
       "Polygonaceae         2.024341\n",
       "Name: Family, dtype: float64"
      ]
     },
     "execution_count": 23,
     "metadata": {},
     "output_type": "execute_result"
    }
   ],
   "source": [
    "# Get the percent each Family represents from total Plants\n",
    "family_percentage = family_data/float(plant_count)*100\n",
    "family_percentage.head(10)"
   ]
  }
 ],
 "metadata": {
  "kernelspec": {
   "display_name": "Python 3",
   "language": "python",
   "name": "python3"
  },
  "language_info": {
   "codemirror_mode": {
    "name": "ipython",
    "version": 3
   },
   "file_extension": ".py",
   "mimetype": "text/x-python",
   "name": "python",
   "nbconvert_exporter": "python",
   "pygments_lexer": "ipython3",
   "version": "3.8.5"
  }
 },
 "nbformat": 4,
 "nbformat_minor": 4
}
